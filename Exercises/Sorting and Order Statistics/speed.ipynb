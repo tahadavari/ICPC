{
 "cells": [
  {
   "cell_type": "code",
   "execution_count": 27,
   "metadata": {},
   "outputs": [],
   "source": [
    "l = [1,5,6,7,1,2,53,2,1,4,5,8,7,4,4,5,6,85,132,4,51,515,611,68135,615,84165,8165,681,6165,84165,6165,64856,8161,61,8,16,5161,616,651,61,61,651,65,1651,651,815,6,66,5,526,6,5,4,6,8,56,5414,7,2,5,8,4,13,6,9,8,6513,615,6151,51,15,4,48,962]"
   ]
  },
  {
   "cell_type": "code",
   "execution_count": 28,
   "metadata": {},
   "outputs": [],
   "source": [
    "l.sort()"
   ]
  },
  {
   "cell_type": "code",
   "execution_count": 30,
   "metadata": {},
   "outputs": [],
   "source": [
    "def merge_sort(array: list):\n",
    "    if len(array) > 1:\n",
    "        mid = len(array)//2\n",
    "\n",
    "        L = array[:mid]\n",
    "        R = array[mid:]\n",
    "        merge_sort(L)\n",
    "\n",
    "        merge_sort(R)\n",
    "\n",
    "        i = j = k = 0\n",
    "\n",
    "        while i < len(L) and j < len(R):\n",
    "            if L[i]<R[j]:\n",
    "                array[k] = L[i]\n",
    "                i+=1\n",
    "            else:\n",
    "                array[k] = R[j]\n",
    "                j += 1\n",
    "            k += 1\n",
    "merge_sort(l)"
   ]
  },
  {
   "cell_type": "code",
   "execution_count": null,
   "metadata": {},
   "outputs": [],
   "source": [
    "j = sorted(l)"
   ]
  }
 ],
 "metadata": {
  "interpreter": {
   "hash": "ac59ebe37160ed0dfa835113d9b8498d9f09ceb179beaac4002f036b9467c963"
  },
  "kernelspec": {
   "display_name": "Python 3.9.1 64-bit",
   "name": "python3"
  },
  "language_info": {
   "codemirror_mode": {
    "name": "ipython",
    "version": 3
   },
   "file_extension": ".py",
   "mimetype": "text/x-python",
   "name": "python",
   "nbconvert_exporter": "python",
   "pygments_lexer": "ipython3",
   "version": "3.9.1"
  },
  "orig_nbformat": 4
 },
 "nbformat": 4,
 "nbformat_minor": 2
}
